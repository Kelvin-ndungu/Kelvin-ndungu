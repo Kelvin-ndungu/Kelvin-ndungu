{
  "cells": [
    {
      "cell_type": "markdown",
      "metadata": {
        "id": "view-in-github",
        "colab_type": "text"
      },
      "source": [
        "<a href=\"https://colab.research.google.com/github/Kelvin-ndungu/Kelvin-ndungu/blob/main/PY0101EN_5_3_Requests_HTTP.ipynb\" target=\"_parent\"><img src=\"https://colab.research.google.com/assets/colab-badge.svg\" alt=\"Open In Colab\"/></a>"
      ]
    },
    {
      "cell_type": "markdown",
      "metadata": {
        "id": "LV7P9sIp3Abn"
      },
      "source": [
        "<a href=\"https://cognitiveclass.ai/?utm_medium=Exinfluencer&utm_source=Exinfluencer&utm_content=000026UJ&utm_term=10006555&utm_id=NA-SkillsNetwork-Channel-SkillsNetworkCoursesIBMDeveloperSkillsNetworkPY0101ENSkillsNetwork19487395-2022-01-01\">\n",
        "    <img src=\"https://s3-api.us-geo.objectstorage.softlayer.net/cf-courses-data/CognitiveClass/PY0101EN/Ad/CCLog.png\" width=\"200\" align=\"center\">\n",
        "</a>\n"
      ]
    },
    {
      "cell_type": "markdown",
      "metadata": {
        "id": "vz3e4tYh3Abv"
      },
      "source": [
        "<h1> HTTP and Requests</h1>\n",
        "\n",
        "Estimated time needed: **15** minutes\n",
        "\n",
        "## Objectives\n",
        "\n",
        "After completing this lab you will be able to:\n",
        "\n",
        "*   Understand HTTP\n",
        "*   Handle HTTP Requests\n"
      ]
    },
    {
      "cell_type": "markdown",
      "metadata": {
        "id": "z62odqSM3Ab0"
      },
      "source": [
        "<h2>Table of Contents</h2>\n",
        "\n",
        "<div class=\"alert alert-block alert-info\" style=\"margin-top: 20px\">\n",
        "    <ul>\n",
        "        <li>\n",
        "            <a href=\"https://#index\">Overview of HTTP </a>\n",
        "            <ul>\n",
        "                <li><a href=\"https://#HTTP\">Uniform Resource Locator:URL</a></li>\n",
        "                 <li><a href=\"https://slice/?utm_medium=Exinfluencer&utm_source=Exinfluencer&utm_content=000026UJ&utm_term=10006555&utm_id=NA-SkillsNetwork-Channel-SkillsNetworkCoursesIBMDeveloperSkillsNetworkPY0101ENSkillsNetwork19487395-2022-01-01\">Request</a></li>\n",
        "                <li><a href=\"https://stride/?utm_medium=Exinfluencer&utm_source=Exinfluencer&utm_content=000026UJ&utm_term=10006555&utm_id=NA-SkillsNetwork-Channel-SkillsNetworkCoursesIBMDeveloperSkillsNetworkPY0101ENSkillsNetwork19487395-2022-01-01\">Response</a></li>\n",
        "            </ul>\n",
        "        </li>\n",
        "        <li>\n",
        "            <a href=\"https://#RP\">Requests in Python  </a>\n",
        "            <ul>\n",
        "                <li><a href=\"https://#get\">Get Request with URL Parameters</a></li>\n",
        "                <li><a href=\"https://#post\">Post Requests </a></li>\n",
        "\n",
        "</ul>\n",
        "\n",
        "</div>\n",
        "\n",
        "<hr>\n"
      ]
    },
    {
      "cell_type": "markdown",
      "metadata": {
        "id": "cyBwEUQE3Ab3"
      },
      "source": [
        "<h2 id=\"\">Overview of HTTP </h2>\n"
      ]
    },
    {
      "cell_type": "markdown",
      "metadata": {
        "id": "iy3inaZK3Ab4"
      },
      "source": [
        "When you, the **client**, use a web page your browser sends an **HTTP** request to the **server** where the page is hosted. The server tries to find the desired **resource** by default \"<code>index.html</code>\". If your request is successful, the server will send the object to the client in an **HTTP response**. This includes information like the type of the **resource**, the length of the **resource**, and other information.\n",
        "\n",
        "<p>\n",
        "The figure below represents the process. The circle on the left represents the client, the circle on the right represents the Web server. The table under the Web server represents a list of resources stored in the web server. In  this case an <code>HTML</code> file, <code>png</code> image, and <code>txt</code> file .\n",
        "</p>\n",
        "<p>\n",
        "The <b>HTTP</b> protocol allows you to send and receive information through the web including webpages, images, and other web resources. In this lab, we will provide an overview of the Requests library for interacting with the <code>HTTP</code> protocol. \n",
        "</p\n"
      ]
    },
    {
      "cell_type": "markdown",
      "metadata": {
        "id": "b5OsUgJe3Ab7"
      },
      "source": [
        "<div class=\"alert alert-block alert-info\" style=\"margin-top: 20px\">\n",
        "         <img src=\"https://cf-courses-data.s3.us.cloud-object-storage.appdomain.cloud/IBMDeveloperSkillsNetwork-PY0101EN-SkillsNetwork/labs/Module%205/images/reqest_basics.png\" width=\"750\" align=\"center\">\n",
        "\n",
        "</div>\n"
      ]
    },
    {
      "cell_type": "markdown",
      "metadata": {
        "id": "9yUoZHJR3Ab8"
      },
      "source": [
        "<h2 id=\"URL\">Uniform Resource Locator: URL</h2>\n"
      ]
    },
    {
      "cell_type": "markdown",
      "metadata": {
        "id": "K3-h2iWG3Ab9"
      },
      "source": [
        "Uniform resource locator (URL) is the most popular way to find resources on the web.  We can break the URL into three parts.\n",
        "\n",
        "<ul>\n",
        "    <li><b>scheme</b> this is this protocol, for this lab it will always be <code>http://</code>  </li>\n",
        "    <li><b> Internet address or  Base URL </b> this will be used to find the location here are some examples: <code>www.ibm.com</code> and  <code> www.gitlab.com </code> </li>\n",
        "    <li><b>route</b> location on the web server for example: <code>/images/IDSNlogo.png</code> </li>\n",
        "</ul>\n"
      ]
    },
    {
      "cell_type": "markdown",
      "metadata": {
        "id": "ieg33xO93Ab_"
      },
      "source": [
        "You may also hear the term Uniform Resource Identifier (URI), URL are actually a subset of URIs. Another popular term is endpoint, this is the URL of an operation provided by a Web server.\n"
      ]
    },
    {
      "cell_type": "markdown",
      "metadata": {
        "id": "EoMNfVH53AcA"
      },
      "source": [
        "<h2 id=\"RE\">Request </h2>\n"
      ]
    },
    {
      "cell_type": "markdown",
      "metadata": {
        "id": "v4gwD0tp3AcB"
      },
      "source": [
        "The process can be broken into the <b>request</b> and <b>response </b> process.  The request using the get method is partially illustrated below. In the start line we have the <code>GET</code> method, this is an <code>HTTP</code> method. Also the location of the resource  <code>/index.html</code> and the <code>HTTP</code> version. The Request header passes additional information with an <code>HTTP</code> request:\n"
      ]
    },
    {
      "cell_type": "markdown",
      "metadata": {
        "id": "143yszHy3AcC"
      },
      "source": [
        "<div class=\"alert alert-block alert-info\" style=\"margin-top: 20px\">\n",
        "         <img src=\"https://cf-courses-data.s3.us.cloud-object-storage.appdomain.cloud/IBMDeveloperSkillsNetwork-PY0101EN-SkillsNetwork/labs/Module%205/images/reqest_messege.png\" width=\"400\" align=\"center\">\n",
        "</div>\n"
      ]
    },
    {
      "cell_type": "markdown",
      "metadata": {
        "id": "2H8RIZdf3AcC"
      },
      "source": [
        "When an <code>HTTP</code> request is made, an <code>HTTP</code> method is sent, this tells the server what action to perform.  A list of several <code>HTTP</code> methods is shown below. We will go over more examples later.\n"
      ]
    },
    {
      "cell_type": "markdown",
      "metadata": {
        "id": "emIj0FtJ3AcD"
      },
      "source": [
        "<div class=\"alert alert-block alert-info\" style=\"margin-top: 20px\">\n",
        "         <img src=\"https://cf-courses-data.s3.us.cloud-object-storage.appdomain.cloud/IBMDeveloperSkillsNetwork-PY0101EN-SkillsNetwork/labs/Module%205/images/http_methods.png\" width=\"400\" align=\"center\">\n",
        "</div>\n"
      ]
    },
    {
      "cell_type": "markdown",
      "metadata": {
        "id": "acqySlXh3AcE"
      },
      "source": [
        "<h2 id=\"RES\">Response</h2>\n"
      ]
    },
    {
      "cell_type": "markdown",
      "metadata": {
        "id": "NpSt0HGl3AcE"
      },
      "source": [
        "The figure below represents the response; the response start line contains the version number <code>HTTP/1.0</code>, a status code (200) meaning success, followed by a descriptive phrase (OK). The response header contains useful information. Finally, we have the response body containing the requested file, an <code> HTML </code> document.  It should be noted that some requests have headers.\n"
      ]
    },
    {
      "cell_type": "markdown",
      "metadata": {
        "id": "zix0qKEj3AcG"
      },
      "source": [
        "<div class=\"alert alert-block alert-info\" style=\"margin-top: 20px\">\n",
        "         <img src=\"https://cf-courses-data.s3.us.cloud-object-storage.appdomain.cloud/IBMDeveloperSkillsNetwork-PY0101EN-SkillsNetwork/labs/Module%205/images/response_message.png\" width=\"400\" align=\"center\">\n",
        "</div>\n"
      ]
    },
    {
      "cell_type": "markdown",
      "metadata": {
        "id": "xM_x6QhU3AcI"
      },
      "source": [
        "Some status code examples are shown in the table below, the prefix indicates the class. These are shown in yellow, with actual status codes shown in  white. Check out the following <a href=\"https://developer.mozilla.org/en-US/docs/Web/HTTP/Status?utm_medium=Exinfluencer&utm_source=Exinfluencer&utm_content=000026UJ&utm_term=10006555&utm_id=NA-SkillsNetwork-Channel-SkillsNetworkCoursesIBMDeveloperSkillsNetworkPY0101ENSkillsNetwork19487395-2022-01-01\">link </a> for more descriptions.\n"
      ]
    },
    {
      "cell_type": "markdown",
      "metadata": {
        "id": "zbM0ZbWk3AcI"
      },
      "source": [
        "<div class=\"alert alert-block alert-info\" style=\"margin-top: 20px\">\n",
        "         <img src=\"https://cf-courses-data.s3.us.cloud-object-storage.appdomain.cloud/IBMDeveloperSkillsNetwork-PY0101EN-SkillsNetwork/labs/Module%205/images/status_code.png\" width=\"300\" align=\"center\">\n",
        "</div>\n"
      ]
    },
    {
      "cell_type": "markdown",
      "metadata": {
        "id": "_ZQmq6r13AcJ"
      },
      "source": [
        "<h2 id=\"RP\">Requests in Python</h2>\n"
      ]
    },
    {
      "cell_type": "markdown",
      "metadata": {
        "id": "0EJliu7G3AcJ"
      },
      "source": [
        "Requests is a Python Library that allows you to send <code>HTTP/1.1</code> requests easily. We can import the library as follows:\n"
      ]
    },
    {
      "cell_type": "code",
      "execution_count": 1,
      "metadata": {
        "id": "G8zSI9LA3AcK"
      },
      "outputs": [],
      "source": [
        "import requests"
      ]
    },
    {
      "cell_type": "markdown",
      "metadata": {
        "id": "goncLleZ3AcL"
      },
      "source": [
        "We will also use the following libraries:\n"
      ]
    },
    {
      "cell_type": "code",
      "execution_count": 2,
      "metadata": {
        "id": "uQTGftZH3AcL"
      },
      "outputs": [],
      "source": [
        "import os \n",
        "from PIL import Image\n",
        "from IPython.display import IFrame"
      ]
    },
    {
      "cell_type": "markdown",
      "metadata": {
        "id": "VVgGN6K03AcM"
      },
      "source": [
        "You can make a <code>GET</code> request via the method <code>get</code> to [www.ibm.com](http://www.ibm.com/?utm_medium=Exinfluencer&utm_source=Exinfluencer&utm_content=000026UJ&utm_term=10006555&utm_id=NA-SkillsNetwork-Channel-SkillsNetworkCoursesIBMDeveloperSkillsNetworkPY0101ENSkillsNetwork19487395-2022-01-01):\n"
      ]
    },
    {
      "cell_type": "code",
      "execution_count": 3,
      "metadata": {
        "id": "9mFCYHZN3AcN"
      },
      "outputs": [],
      "source": [
        "url='https://www.ibm.com/'\n",
        "r=requests.get(url)\n"
      ]
    },
    {
      "cell_type": "markdown",
      "metadata": {
        "id": "KF-o0U8E3AcN"
      },
      "source": [
        "We have the response object <code>r</code>, this has information about the request, like the status of the request. We can view the status code using the attribute <code>status_code</code>.\n"
      ]
    },
    {
      "cell_type": "code",
      "execution_count": 4,
      "metadata": {
        "colab": {
          "base_uri": "https://localhost:8080/"
        },
        "id": "eZnehQfT3AcO",
        "outputId": "0a86dbb7-aac7-4dca-9745-5d2a4cc149c8"
      },
      "outputs": [
        {
          "output_type": "execute_result",
          "data": {
            "text/plain": [
              "200"
            ]
          },
          "metadata": {},
          "execution_count": 4
        }
      ],
      "source": [
        "r.status_code"
      ]
    },
    {
      "cell_type": "markdown",
      "metadata": {
        "id": "QOw2MeOR3AcO"
      },
      "source": [
        "You can view the request headers:\n"
      ]
    },
    {
      "cell_type": "code",
      "execution_count": 10,
      "metadata": {
        "colab": {
          "base_uri": "https://localhost:8080/",
          "height": 256
        },
        "id": "YuWKbOAt3AcP",
        "outputId": "0c078f29-aaba-46d7-8b77-19957f1e27f6"
      },
      "outputs": [
        {
          "output_type": "stream",
          "name": "stdout",
          "text": [
            "{'User-Agent': 'python-requests/2.23.0', 'Accept-Encoding': 'gzip, deflate', 'Accept': '*/*', 'Connection': 'keep-alive', 'Cookie': '_abck=BA57A7BF1CB6CB2A83F06F458DE8FA2C~-1~YAAQtWUzuDDBIZ+DAQAAWeLjpgjruvyLCtb2RRrSxAnPPIgGyrBFnMflkE8vofn37SBMstZoIDhYKtSEvHW0wFN6Xi0l8iQr9yHGYQJ5rjKU+fP6HK4pQ4eJvkn1cEjgXsQU+aINabYCFNPxc3AacXmTg5kMIf/L4pO3NDfTvxAAe2766Q3WJHWi3CTbgzlHo25JaBBuMh+Ny7OEnaOj0TirIANitMld2YNtzyWN0N87+yDpfFSCR49SY1q6PabHiRYR3lbwy5q1C57fd0wTgHoZ+GBK/V8Kv3IavdTqfzi/WWxQXaZXNAb8bQJfVSkMC9bW/g18NjLzQNEhvjO2fuvob9pp73pc9oOrXqCRydXrTrO6+fU=~-1~-1~-1; bm_sz=B722A8932EA4AAF75F9AB802CE4E3FF4~YAAQtWUzuDHBIZ+DAQAAWeLjphFYqumivcbYClyLiobXMzd7yQvBw1X0TR3DASObIKrOMNGkXYqe9oY5LpP5j/JnsRiac7h4RyPydA2WA0ocg1N78ZhnOz8ngpSXctqU4NLb57o8tcFuNokd3CVLwyhTUjNhvWDtMopiy30chsAuDyPpezo8MkhRneMHiOwdLUmaxYkkclJc0AtQ4NaKQG2XkIMRDZ5UbsS4mdpRDhzGC5CDbtrTv9KU9YYK2/dlH82Zpe1kx4otAV51hIM8htMiVMx7GZ6ALdIS3UGNBiM=~4403254~4273465'}\n"
          ]
        },
        {
          "output_type": "execute_result",
          "data": {
            "text/plain": [
              "                 0\n",
              "0       User-Agent\n",
              "1  Accept-Encoding\n",
              "2           Accept\n",
              "3       Connection\n",
              "4           Cookie"
            ],
            "text/html": [
              "\n",
              "  <div id=\"df-ccf005f3-0dfc-4eb1-87c5-6caf6bd62925\">\n",
              "    <div class=\"colab-df-container\">\n",
              "      <div>\n",
              "<style scoped>\n",
              "    .dataframe tbody tr th:only-of-type {\n",
              "        vertical-align: middle;\n",
              "    }\n",
              "\n",
              "    .dataframe tbody tr th {\n",
              "        vertical-align: top;\n",
              "    }\n",
              "\n",
              "    .dataframe thead th {\n",
              "        text-align: right;\n",
              "    }\n",
              "</style>\n",
              "<table border=\"1\" class=\"dataframe\">\n",
              "  <thead>\n",
              "    <tr style=\"text-align: right;\">\n",
              "      <th></th>\n",
              "      <th>0</th>\n",
              "    </tr>\n",
              "  </thead>\n",
              "  <tbody>\n",
              "    <tr>\n",
              "      <th>0</th>\n",
              "      <td>User-Agent</td>\n",
              "    </tr>\n",
              "    <tr>\n",
              "      <th>1</th>\n",
              "      <td>Accept-Encoding</td>\n",
              "    </tr>\n",
              "    <tr>\n",
              "      <th>2</th>\n",
              "      <td>Accept</td>\n",
              "    </tr>\n",
              "    <tr>\n",
              "      <th>3</th>\n",
              "      <td>Connection</td>\n",
              "    </tr>\n",
              "    <tr>\n",
              "      <th>4</th>\n",
              "      <td>Cookie</td>\n",
              "    </tr>\n",
              "  </tbody>\n",
              "</table>\n",
              "</div>\n",
              "      <button class=\"colab-df-convert\" onclick=\"convertToInteractive('df-ccf005f3-0dfc-4eb1-87c5-6caf6bd62925')\"\n",
              "              title=\"Convert this dataframe to an interactive table.\"\n",
              "              style=\"display:none;\">\n",
              "        \n",
              "  <svg xmlns=\"http://www.w3.org/2000/svg\" height=\"24px\"viewBox=\"0 0 24 24\"\n",
              "       width=\"24px\">\n",
              "    <path d=\"M0 0h24v24H0V0z\" fill=\"none\"/>\n",
              "    <path d=\"M18.56 5.44l.94 2.06.94-2.06 2.06-.94-2.06-.94-.94-2.06-.94 2.06-2.06.94zm-11 1L8.5 8.5l.94-2.06 2.06-.94-2.06-.94L8.5 2.5l-.94 2.06-2.06.94zm10 10l.94 2.06.94-2.06 2.06-.94-2.06-.94-.94-2.06-.94 2.06-2.06.94z\"/><path d=\"M17.41 7.96l-1.37-1.37c-.4-.4-.92-.59-1.43-.59-.52 0-1.04.2-1.43.59L10.3 9.45l-7.72 7.72c-.78.78-.78 2.05 0 2.83L4 21.41c.39.39.9.59 1.41.59.51 0 1.02-.2 1.41-.59l7.78-7.78 2.81-2.81c.8-.78.8-2.07 0-2.86zM5.41 20L4 18.59l7.72-7.72 1.47 1.35L5.41 20z\"/>\n",
              "  </svg>\n",
              "      </button>\n",
              "      \n",
              "  <style>\n",
              "    .colab-df-container {\n",
              "      display:flex;\n",
              "      flex-wrap:wrap;\n",
              "      gap: 12px;\n",
              "    }\n",
              "\n",
              "    .colab-df-convert {\n",
              "      background-color: #E8F0FE;\n",
              "      border: none;\n",
              "      border-radius: 50%;\n",
              "      cursor: pointer;\n",
              "      display: none;\n",
              "      fill: #1967D2;\n",
              "      height: 32px;\n",
              "      padding: 0 0 0 0;\n",
              "      width: 32px;\n",
              "    }\n",
              "\n",
              "    .colab-df-convert:hover {\n",
              "      background-color: #E2EBFA;\n",
              "      box-shadow: 0px 1px 2px rgba(60, 64, 67, 0.3), 0px 1px 3px 1px rgba(60, 64, 67, 0.15);\n",
              "      fill: #174EA6;\n",
              "    }\n",
              "\n",
              "    [theme=dark] .colab-df-convert {\n",
              "      background-color: #3B4455;\n",
              "      fill: #D2E3FC;\n",
              "    }\n",
              "\n",
              "    [theme=dark] .colab-df-convert:hover {\n",
              "      background-color: #434B5C;\n",
              "      box-shadow: 0px 1px 3px 1px rgba(0, 0, 0, 0.15);\n",
              "      filter: drop-shadow(0px 1px 2px rgba(0, 0, 0, 0.3));\n",
              "      fill: #FFFFFF;\n",
              "    }\n",
              "  </style>\n",
              "\n",
              "      <script>\n",
              "        const buttonEl =\n",
              "          document.querySelector('#df-ccf005f3-0dfc-4eb1-87c5-6caf6bd62925 button.colab-df-convert');\n",
              "        buttonEl.style.display =\n",
              "          google.colab.kernel.accessAllowed ? 'block' : 'none';\n",
              "\n",
              "        async function convertToInteractive(key) {\n",
              "          const element = document.querySelector('#df-ccf005f3-0dfc-4eb1-87c5-6caf6bd62925');\n",
              "          const dataTable =\n",
              "            await google.colab.kernel.invokeFunction('convertToInteractive',\n",
              "                                                     [key], {});\n",
              "          if (!dataTable) return;\n",
              "\n",
              "          const docLinkHtml = 'Like what you see? Visit the ' +\n",
              "            '<a target=\"_blank\" href=https://colab.research.google.com/notebooks/data_table.ipynb>data table notebook</a>'\n",
              "            + ' to learn more about interactive tables.';\n",
              "          element.innerHTML = '';\n",
              "          dataTable['output_type'] = 'display_data';\n",
              "          await google.colab.output.renderOutput(dataTable, element);\n",
              "          const docLink = document.createElement('div');\n",
              "          docLink.innerHTML = docLinkHtml;\n",
              "          element.appendChild(docLink);\n",
              "        }\n",
              "      </script>\n",
              "    </div>\n",
              "  </div>\n",
              "  "
            ]
          },
          "metadata": {},
          "execution_count": 10
        }
      ],
      "source": [
        "print(r.request.headers)\n"
      ]
    },
    {
      "cell_type": "markdown",
      "metadata": {
        "id": "3FmbNUJE3AcQ"
      },
      "source": [
        "You can view the request body, in the following line, as there is no body for a get request we get a <code>None</code>:\n"
      ]
    },
    {
      "cell_type": "code",
      "execution_count": 11,
      "metadata": {
        "colab": {
          "base_uri": "https://localhost:8080/"
        },
        "id": "SSVko6wT3AcQ",
        "outputId": "79090cbf-6bb5-4da4-c187-eb1893d03fe1"
      },
      "outputs": [
        {
          "output_type": "stream",
          "name": "stdout",
          "text": [
            "request body: None\n"
          ]
        }
      ],
      "source": [
        "print(\"request body:\", r.request.body)"
      ]
    },
    {
      "cell_type": "markdown",
      "metadata": {
        "id": "9J9UtPdR3AcR"
      },
      "source": [
        "You can view the <code>HTTP</code> response header using the attribute <code>headers</code>. This returns a python dictionary of <code>HTTP</code> response headers.\n"
      ]
    },
    {
      "cell_type": "code",
      "execution_count": 12,
      "metadata": {
        "colab": {
          "base_uri": "https://localhost:8080/",
          "height": 621
        },
        "id": "f1arsoW-3AcS",
        "outputId": "0c191380-2678-43d4-a374-24238a5b3498"
      },
      "outputs": [
        {
          "output_type": "stream",
          "name": "stdout",
          "text": [
            "{'Server': 'Apache', 'Last-Modified': 'Mon, 03 Oct 2022 12:34:16 GMT', 'ETag': '\"17fce-5ea208fcd503e-gzip\"', 'Accept-Ranges': 'bytes', 'Content-Encoding': 'gzip', 'Content-Type': 'text/html', 'Cache-Control': 'max-age=3600', 'Expires': 'Wed, 05 Oct 2022 07:44:56 GMT', 'X-Akamai-Transformed': '9 21227 0 pmb=mTOE,2', 'Date': 'Wed, 05 Oct 2022 06:44:56 GMT', 'Content-Length': '21405', 'Connection': 'keep-alive', 'Vary': 'Accept-Encoding', 'x-content-type-options': 'nosniff', 'X-XSS-Protection': '1; mode=block', 'Content-Security-Policy': 'upgrade-insecure-requests', 'Strict-Transport-Security': 'max-age=31536000'}\n"
          ]
        },
        {
          "output_type": "execute_result",
          "data": {
            "text/plain": [
              "                            0\n",
              "0                      Server\n",
              "1               Last-Modified\n",
              "2                        ETag\n",
              "3               Accept-Ranges\n",
              "4            Content-Encoding\n",
              "5                Content-Type\n",
              "6               Cache-Control\n",
              "7                     Expires\n",
              "8        X-Akamai-Transformed\n",
              "9                        Date\n",
              "10             Content-Length\n",
              "11                 Connection\n",
              "12                       Vary\n",
              "13     x-content-type-options\n",
              "14           X-XSS-Protection\n",
              "15    Content-Security-Policy\n",
              "16  Strict-Transport-Security"
            ],
            "text/html": [
              "\n",
              "  <div id=\"df-587e612d-b473-4d23-8a95-aaaa79223ad8\">\n",
              "    <div class=\"colab-df-container\">\n",
              "      <div>\n",
              "<style scoped>\n",
              "    .dataframe tbody tr th:only-of-type {\n",
              "        vertical-align: middle;\n",
              "    }\n",
              "\n",
              "    .dataframe tbody tr th {\n",
              "        vertical-align: top;\n",
              "    }\n",
              "\n",
              "    .dataframe thead th {\n",
              "        text-align: right;\n",
              "    }\n",
              "</style>\n",
              "<table border=\"1\" class=\"dataframe\">\n",
              "  <thead>\n",
              "    <tr style=\"text-align: right;\">\n",
              "      <th></th>\n",
              "      <th>0</th>\n",
              "    </tr>\n",
              "  </thead>\n",
              "  <tbody>\n",
              "    <tr>\n",
              "      <th>0</th>\n",
              "      <td>Server</td>\n",
              "    </tr>\n",
              "    <tr>\n",
              "      <th>1</th>\n",
              "      <td>Last-Modified</td>\n",
              "    </tr>\n",
              "    <tr>\n",
              "      <th>2</th>\n",
              "      <td>ETag</td>\n",
              "    </tr>\n",
              "    <tr>\n",
              "      <th>3</th>\n",
              "      <td>Accept-Ranges</td>\n",
              "    </tr>\n",
              "    <tr>\n",
              "      <th>4</th>\n",
              "      <td>Content-Encoding</td>\n",
              "    </tr>\n",
              "    <tr>\n",
              "      <th>5</th>\n",
              "      <td>Content-Type</td>\n",
              "    </tr>\n",
              "    <tr>\n",
              "      <th>6</th>\n",
              "      <td>Cache-Control</td>\n",
              "    </tr>\n",
              "    <tr>\n",
              "      <th>7</th>\n",
              "      <td>Expires</td>\n",
              "    </tr>\n",
              "    <tr>\n",
              "      <th>8</th>\n",
              "      <td>X-Akamai-Transformed</td>\n",
              "    </tr>\n",
              "    <tr>\n",
              "      <th>9</th>\n",
              "      <td>Date</td>\n",
              "    </tr>\n",
              "    <tr>\n",
              "      <th>10</th>\n",
              "      <td>Content-Length</td>\n",
              "    </tr>\n",
              "    <tr>\n",
              "      <th>11</th>\n",
              "      <td>Connection</td>\n",
              "    </tr>\n",
              "    <tr>\n",
              "      <th>12</th>\n",
              "      <td>Vary</td>\n",
              "    </tr>\n",
              "    <tr>\n",
              "      <th>13</th>\n",
              "      <td>x-content-type-options</td>\n",
              "    </tr>\n",
              "    <tr>\n",
              "      <th>14</th>\n",
              "      <td>X-XSS-Protection</td>\n",
              "    </tr>\n",
              "    <tr>\n",
              "      <th>15</th>\n",
              "      <td>Content-Security-Policy</td>\n",
              "    </tr>\n",
              "    <tr>\n",
              "      <th>16</th>\n",
              "      <td>Strict-Transport-Security</td>\n",
              "    </tr>\n",
              "  </tbody>\n",
              "</table>\n",
              "</div>\n",
              "      <button class=\"colab-df-convert\" onclick=\"convertToInteractive('df-587e612d-b473-4d23-8a95-aaaa79223ad8')\"\n",
              "              title=\"Convert this dataframe to an interactive table.\"\n",
              "              style=\"display:none;\">\n",
              "        \n",
              "  <svg xmlns=\"http://www.w3.org/2000/svg\" height=\"24px\"viewBox=\"0 0 24 24\"\n",
              "       width=\"24px\">\n",
              "    <path d=\"M0 0h24v24H0V0z\" fill=\"none\"/>\n",
              "    <path d=\"M18.56 5.44l.94 2.06.94-2.06 2.06-.94-2.06-.94-.94-2.06-.94 2.06-2.06.94zm-11 1L8.5 8.5l.94-2.06 2.06-.94-2.06-.94L8.5 2.5l-.94 2.06-2.06.94zm10 10l.94 2.06.94-2.06 2.06-.94-2.06-.94-.94-2.06-.94 2.06-2.06.94z\"/><path d=\"M17.41 7.96l-1.37-1.37c-.4-.4-.92-.59-1.43-.59-.52 0-1.04.2-1.43.59L10.3 9.45l-7.72 7.72c-.78.78-.78 2.05 0 2.83L4 21.41c.39.39.9.59 1.41.59.51 0 1.02-.2 1.41-.59l7.78-7.78 2.81-2.81c.8-.78.8-2.07 0-2.86zM5.41 20L4 18.59l7.72-7.72 1.47 1.35L5.41 20z\"/>\n",
              "  </svg>\n",
              "      </button>\n",
              "      \n",
              "  <style>\n",
              "    .colab-df-container {\n",
              "      display:flex;\n",
              "      flex-wrap:wrap;\n",
              "      gap: 12px;\n",
              "    }\n",
              "\n",
              "    .colab-df-convert {\n",
              "      background-color: #E8F0FE;\n",
              "      border: none;\n",
              "      border-radius: 50%;\n",
              "      cursor: pointer;\n",
              "      display: none;\n",
              "      fill: #1967D2;\n",
              "      height: 32px;\n",
              "      padding: 0 0 0 0;\n",
              "      width: 32px;\n",
              "    }\n",
              "\n",
              "    .colab-df-convert:hover {\n",
              "      background-color: #E2EBFA;\n",
              "      box-shadow: 0px 1px 2px rgba(60, 64, 67, 0.3), 0px 1px 3px 1px rgba(60, 64, 67, 0.15);\n",
              "      fill: #174EA6;\n",
              "    }\n",
              "\n",
              "    [theme=dark] .colab-df-convert {\n",
              "      background-color: #3B4455;\n",
              "      fill: #D2E3FC;\n",
              "    }\n",
              "\n",
              "    [theme=dark] .colab-df-convert:hover {\n",
              "      background-color: #434B5C;\n",
              "      box-shadow: 0px 1px 3px 1px rgba(0, 0, 0, 0.15);\n",
              "      filter: drop-shadow(0px 1px 2px rgba(0, 0, 0, 0.3));\n",
              "      fill: #FFFFFF;\n",
              "    }\n",
              "  </style>\n",
              "\n",
              "      <script>\n",
              "        const buttonEl =\n",
              "          document.querySelector('#df-587e612d-b473-4d23-8a95-aaaa79223ad8 button.colab-df-convert');\n",
              "        buttonEl.style.display =\n",
              "          google.colab.kernel.accessAllowed ? 'block' : 'none';\n",
              "\n",
              "        async function convertToInteractive(key) {\n",
              "          const element = document.querySelector('#df-587e612d-b473-4d23-8a95-aaaa79223ad8');\n",
              "          const dataTable =\n",
              "            await google.colab.kernel.invokeFunction('convertToInteractive',\n",
              "                                                     [key], {});\n",
              "          if (!dataTable) return;\n",
              "\n",
              "          const docLinkHtml = 'Like what you see? Visit the ' +\n",
              "            '<a target=\"_blank\" href=https://colab.research.google.com/notebooks/data_table.ipynb>data table notebook</a>'\n",
              "            + ' to learn more about interactive tables.';\n",
              "          element.innerHTML = '';\n",
              "          dataTable['output_type'] = 'display_data';\n",
              "          await google.colab.output.renderOutput(dataTable, element);\n",
              "          const docLink = document.createElement('div');\n",
              "          docLink.innerHTML = docLinkHtml;\n",
              "          element.appendChild(docLink);\n",
              "        }\n",
              "      </script>\n",
              "    </div>\n",
              "  </div>\n",
              "  "
            ]
          },
          "metadata": {},
          "execution_count": 12
        }
      ],
      "source": [
        "header=r.headers\n",
        "print(r.headers)\n",
        "\n",
        "import pandas as pd\n",
        "hd = pd.DataFrame(r.headers)\n",
        "hd"
      ]
    },
    {
      "cell_type": "markdown",
      "metadata": {
        "id": "ljAbRilg3AcT"
      },
      "source": [
        "We can obtain the date the request was sent using the key <code>Date</code>\n"
      ]
    },
    {
      "cell_type": "code",
      "execution_count": 13,
      "metadata": {
        "colab": {
          "base_uri": "https://localhost:8080/",
          "height": 35
        },
        "id": "C8s_AP8f3AcT",
        "outputId": "d1b12886-465f-4fa4-f2c0-677f09be63a9"
      },
      "outputs": [
        {
          "output_type": "execute_result",
          "data": {
            "text/plain": [
              "'Wed, 05 Oct 2022 06:44:56 GMT'"
            ],
            "application/vnd.google.colaboratory.intrinsic+json": {
              "type": "string"
            }
          },
          "metadata": {},
          "execution_count": 13
        }
      ],
      "source": [
        "header['date']"
      ]
    },
    {
      "cell_type": "markdown",
      "metadata": {
        "id": "IrTFt1WQ3AcT"
      },
      "source": [
        "<code>Content-Type</code> indicates the type of data:\n"
      ]
    },
    {
      "cell_type": "code",
      "execution_count": 14,
      "metadata": {
        "colab": {
          "base_uri": "https://localhost:8080/",
          "height": 35
        },
        "id": "DL-78aB43AcU",
        "outputId": "c6c2e252-368b-47a0-f739-123f2d99eed4"
      },
      "outputs": [
        {
          "output_type": "execute_result",
          "data": {
            "text/plain": [
              "'text/html'"
            ],
            "application/vnd.google.colaboratory.intrinsic+json": {
              "type": "string"
            }
          },
          "metadata": {},
          "execution_count": 14
        }
      ],
      "source": [
        "header['Content-Type']"
      ]
    },
    {
      "cell_type": "markdown",
      "metadata": {
        "id": "UKlMciTu3AcU"
      },
      "source": [
        "You can also check the <code>encoding</code>:\n"
      ]
    },
    {
      "cell_type": "code",
      "execution_count": 15,
      "metadata": {
        "colab": {
          "base_uri": "https://localhost:8080/",
          "height": 35
        },
        "id": "NvK1xfg73AcW",
        "outputId": "44126a68-5a1e-4e79-e018-56471b326e4b"
      },
      "outputs": [
        {
          "output_type": "execute_result",
          "data": {
            "text/plain": [
              "'ISO-8859-1'"
            ],
            "application/vnd.google.colaboratory.intrinsic+json": {
              "type": "string"
            }
          },
          "metadata": {},
          "execution_count": 15
        }
      ],
      "source": [
        " r.encoding"
      ]
    },
    {
      "cell_type": "markdown",
      "metadata": {
        "id": "amxEzwQL3AcX"
      },
      "source": [
        "As the <code>Content-Type</code> is <code>text/html</code> we can use the attribute <code>text</code> to display the <code>HTML</code> in the body. We can review the first 100 characters:\n"
      ]
    },
    {
      "cell_type": "code",
      "execution_count": 16,
      "metadata": {
        "colab": {
          "base_uri": "https://localhost:8080/",
          "height": 35
        },
        "id": "AjJF2xAZ3AcX",
        "outputId": "7b9f792d-910b-4522-ab6c-2c57fe0ca7bb"
      },
      "outputs": [
        {
          "output_type": "execute_result",
          "data": {
            "text/plain": [
              "'<!DOCTYPE html><html lang=\"en-US\"><head><meta name=\"viewport\" content=\"width=device-width\"/><meta ch'"
            ],
            "application/vnd.google.colaboratory.intrinsic+json": {
              "type": "string"
            }
          },
          "metadata": {},
          "execution_count": 16
        }
      ],
      "source": [
        "r.text[0:100]"
      ]
    },
    {
      "cell_type": "markdown",
      "metadata": {
        "id": "KeR5Ym0U3AcY"
      },
      "source": [
        "You can load other types of data for non-text requests, like images. Consider the URL of the following image:\n"
      ]
    },
    {
      "cell_type": "code",
      "execution_count": null,
      "metadata": {
        "id": "0ZY4hy6o3AcY"
      },
      "outputs": [],
      "source": [
        "# Use single quotation marks for defining string\n",
        "url='https://cf-courses-data.s3.us.cloud-object-storage.appdomain.cloud/IBMDeveloperSkillsNetwork-PY0101EN-SkillsNetwork/IDSNlogo.png'"
      ]
    },
    {
      "cell_type": "markdown",
      "metadata": {
        "id": "FRE3QgWn3AcZ"
      },
      "source": [
        "We can make a get request:\n"
      ]
    },
    {
      "cell_type": "code",
      "execution_count": 17,
      "metadata": {
        "id": "reptXS9K3AcZ"
      },
      "outputs": [],
      "source": [
        "r=requests.get(url)"
      ]
    },
    {
      "cell_type": "markdown",
      "metadata": {
        "id": "lHOrLkNR3Aca"
      },
      "source": [
        "We can look at the response header:\n"
      ]
    },
    {
      "cell_type": "code",
      "execution_count": 18,
      "metadata": {
        "colab": {
          "base_uri": "https://localhost:8080/"
        },
        "id": "pUuKoztM3Acb",
        "outputId": "bba0b5e7-8c8c-4583-d856-3968c8052c16"
      },
      "outputs": [
        {
          "output_type": "stream",
          "name": "stdout",
          "text": [
            "{'Server': 'Apache', 'Last-Modified': 'Mon, 03 Oct 2022 12:34:16 GMT', 'ETag': '\"17fce-5ea208fcd503e-gzip\"', 'Accept-Ranges': 'bytes', 'Content-Encoding': 'gzip', 'Content-Type': 'text/html', 'Cache-Control': 'max-age=3600', 'Expires': 'Wed, 05 Oct 2022 07:55:19 GMT', 'X-Akamai-Transformed': '9 21227 0 pmb=mTOE,2', 'Date': 'Wed, 05 Oct 2022 06:55:19 GMT', 'Content-Length': '21405', 'Connection': 'keep-alive', 'Vary': 'Accept-Encoding', 'x-content-type-options': 'nosniff', 'X-XSS-Protection': '1; mode=block', 'Content-Security-Policy': 'upgrade-insecure-requests', 'Strict-Transport-Security': 'max-age=31536000'}\n"
          ]
        }
      ],
      "source": [
        "print(r.headers)"
      ]
    },
    {
      "cell_type": "markdown",
      "metadata": {
        "id": "lNGfTGnT3Acc"
      },
      "source": [
        "We can see the <code>'Content-Type'</code>\n"
      ]
    },
    {
      "cell_type": "code",
      "execution_count": 19,
      "metadata": {
        "colab": {
          "base_uri": "https://localhost:8080/",
          "height": 35
        },
        "id": "qg2Ctelh3Acc",
        "outputId": "60f19972-b24a-4aca-ff1b-efd7430a6713"
      },
      "outputs": [
        {
          "output_type": "execute_result",
          "data": {
            "text/plain": [
              "'text/html'"
            ],
            "application/vnd.google.colaboratory.intrinsic+json": {
              "type": "string"
            }
          },
          "metadata": {},
          "execution_count": 19
        }
      ],
      "source": [
        "r.headers['Content-Type']"
      ]
    },
    {
      "cell_type": "markdown",
      "metadata": {
        "id": "O-Rc1hoJ3Acd"
      },
      "source": [
        "An image is a response object that contains the image as a <a href=\"https://docs.python.org/3/glossary.html?utm_medium=Exinfluencer&utm_source=Exinfluencer&utm_content=000026UJ&utm_term=10006555&utm_id=NA-SkillsNetwork-Channel-SkillsNetworkCoursesIBMDeveloperSkillsNetworkPY0101ENSkillsNetwork19487395-2022-01-01#term-bytes-like-object\">bytes-like object</a>. As a result, we must save it using a file object. First, we specify the file path and\n",
        "name\n"
      ]
    },
    {
      "cell_type": "code",
      "execution_count": 20,
      "metadata": {
        "colab": {
          "base_uri": "https://localhost:8080/",
          "height": 35
        },
        "id": "g4tPLlhZ3Ace",
        "outputId": "995cee49-9ec4-4412-ed23-a4b92c6b99ba"
      },
      "outputs": [
        {
          "output_type": "execute_result",
          "data": {
            "text/plain": [
              "'/content/image.png'"
            ],
            "application/vnd.google.colaboratory.intrinsic+json": {
              "type": "string"
            }
          },
          "metadata": {},
          "execution_count": 20
        }
      ],
      "source": [
        "path=os.path.join(os.getcwd(),'image.png')\n",
        "path"
      ]
    },
    {
      "cell_type": "markdown",
      "metadata": {
        "id": "vtKSlP8d3Acf"
      },
      "source": [
        "We save the file, in order to access the body of the response we use the attribute <code>content</code> then save it using the <code>open</code> function and write <code>method</code>:\n"
      ]
    },
    {
      "cell_type": "code",
      "execution_count": 21,
      "metadata": {
        "id": "WQPpkBwQ3Acg"
      },
      "outputs": [],
      "source": [
        "with open(path,'wb') as f:\n",
        "    f.write(r.content)"
      ]
    },
    {
      "cell_type": "markdown",
      "metadata": {
        "id": "hg2jggWl3Ach"
      },
      "source": [
        "We can view the image:\n"
      ]
    },
    {
      "cell_type": "code",
      "execution_count": 22,
      "metadata": {
        "colab": {
          "base_uri": "https://localhost:8080/",
          "height": 297
        },
        "id": "l8auhN8B3Ach",
        "outputId": "1472982f-07bd-4bf4-fe2d-e653b69ab997"
      },
      "outputs": [
        {
          "output_type": "error",
          "ename": "UnidentifiedImageError",
          "evalue": "ignored",
          "traceback": [
            "\u001b[0;31m---------------------------------------------------------------------------\u001b[0m",
            "\u001b[0;31mUnidentifiedImageError\u001b[0m                    Traceback (most recent call last)",
            "\u001b[0;32m<ipython-input-22-879d94d56ed0>\u001b[0m in \u001b[0;36m<module>\u001b[0;34m\u001b[0m\n\u001b[0;32m----> 1\u001b[0;31m \u001b[0mImage\u001b[0m\u001b[0;34m.\u001b[0m\u001b[0mopen\u001b[0m\u001b[0;34m(\u001b[0m\u001b[0mpath\u001b[0m\u001b[0;34m)\u001b[0m\u001b[0;34m\u001b[0m\u001b[0;34m\u001b[0m\u001b[0m\n\u001b[0m",
            "\u001b[0;32m/usr/local/lib/python3.7/dist-packages/PIL/Image.py\u001b[0m in \u001b[0;36mopen\u001b[0;34m(fp, mode)\u001b[0m\n\u001b[1;32m   2894\u001b[0m         \u001b[0mwarnings\u001b[0m\u001b[0;34m.\u001b[0m\u001b[0mwarn\u001b[0m\u001b[0;34m(\u001b[0m\u001b[0mmessage\u001b[0m\u001b[0;34m)\u001b[0m\u001b[0;34m\u001b[0m\u001b[0;34m\u001b[0m\u001b[0m\n\u001b[1;32m   2895\u001b[0m     raise UnidentifiedImageError(\n\u001b[0;32m-> 2896\u001b[0;31m         \u001b[0;34m\"cannot identify image file %r\"\u001b[0m \u001b[0;34m%\u001b[0m \u001b[0;34m(\u001b[0m\u001b[0mfilename\u001b[0m \u001b[0;32mif\u001b[0m \u001b[0mfilename\u001b[0m \u001b[0;32melse\u001b[0m \u001b[0mfp\u001b[0m\u001b[0;34m)\u001b[0m\u001b[0;34m\u001b[0m\u001b[0;34m\u001b[0m\u001b[0m\n\u001b[0m\u001b[1;32m   2897\u001b[0m     )\n\u001b[1;32m   2898\u001b[0m \u001b[0;34m\u001b[0m\u001b[0m\n",
            "\u001b[0;31mUnidentifiedImageError\u001b[0m: cannot identify image file '/content/image.png'"
          ]
        }
      ],
      "source": [
        "Image.open(path)  "
      ]
    },
    {
      "cell_type": "markdown",
      "metadata": {
        "id": "mxeYmrdb3Aci"
      },
      "source": [
        "<h3>Question 1: write <a href=\"https://www.gnu.org/software/wget/?utm_medium=Exinfluencer&utm_source=Exinfluencer&utm_content=000026UJ&utm_term=10006555&utm_id=NA-SkillsNetwork-Channel-SkillsNetworkCoursesIBMDeveloperSkillsNetworkPY0101ENSkillsNetwork19487395-2022-01-01\"><code> wget </code></a></h3>\n"
      ]
    },
    {
      "cell_type": "markdown",
      "metadata": {
        "id": "RR9Qc4dg3Ack"
      },
      "source": [
        "In the previous section, we used the <code>wget</code> function to retrieve content from the web server as shown below.  Write the python code to perform the same task. The code should be the same as the one used to download the image, but the file name should be <code>'Example1.txt'</code>.\n"
      ]
    },
    {
      "cell_type": "markdown",
      "metadata": {
        "id": "1ZaE8RkJ3Ack"
      },
      "source": [
        "<code>!wget -O /resources/data/Example1.txt <https://cf-courses-data.s3.us.cloud-object-storage.appdomain.cloud/IBMDeveloperSkillsNetwork-PY0101EN-SkillsNetwork/labs/Module%205/data/Example1.txt></code>\n"
      ]
    },
    {
      "cell_type": "code",
      "execution_count": 23,
      "metadata": {
        "id": "vDioQGOM3Acl"
      },
      "outputs": [],
      "source": [
        "url='https://cf-courses-data.s3.us.cloud-object-storage.appdomain.cloud/IBMDeveloperSkillsNetwork-PY0101EN-SkillsNetwork/labs/Module%205/data/Example1.txt'\n",
        "path=os.path.join(os.getcwd(),'example1.txt')\n",
        "r=requests.get(url)\n",
        "with open(path,'wb') as f:\n",
        "    f.write(r.content)"
      ]
    },
    {
      "cell_type": "markdown",
      "metadata": {
        "id": "TkcrzvLv3Acl"
      },
      "source": [
        "<details><summary>Click here for the solution</summary>\n",
        "\n",
        "```python\n",
        "url='https://cf-courses-data.s3.us.cloud-object-storage.appdomain.cloud/IBMDeveloperSkillsNetwork-PY0101EN-SkillsNetwork/labs/Module%205/data/Example1.txt'\n",
        "path=os.path.join(os.getcwd(),'example1.txt')\n",
        "r=requests.get(url)\n",
        "with open(path,'wb') as f:\n",
        "    f.write(r.content)\n",
        "\n",
        "```\n",
        "\n",
        "</details>\n"
      ]
    },
    {
      "cell_type": "markdown",
      "metadata": {
        "id": "fcTqh6Pi3Acm"
      },
      "source": [
        "<h2 id=\"URL_P\">Get Request with URL Parameters </h2>\n"
      ]
    },
    {
      "cell_type": "markdown",
      "metadata": {
        "id": "LrRe9ssD3Acm"
      },
      "source": [
        "You can use the <b>GET</b> method to modify the results of your query, for example retrieving data from an API. We send a <b>GET</b> request to the  server. Like before we have the <b>Base URL</b>, in the <b>Route</b> we append <code>/get</code>, this indicates we would like to preform a <code>GET</code> request. This is demonstrated in the following table:\n"
      ]
    },
    {
      "cell_type": "markdown",
      "metadata": {
        "id": "tYAYbLR03Acn"
      },
      "source": [
        "<div class=\"alert alert-block alert-info\" style=\"margin-top: 20px\">\n",
        "         <img src=\"https://cf-courses-data.s3.us.cloud-object-storage.appdomain.cloud/IBMDeveloperSkillsNetwork-PY0101EN-SkillsNetwork/labs/Module%205/images/base_URL_Route.png\" width=\"400\" align=\"center\">\n",
        "</div>\n"
      ]
    },
    {
      "cell_type": "markdown",
      "metadata": {
        "id": "G6KZJkDm3Acn"
      },
      "source": [
        "The Base URL is for <code>[http://httpbin.org/](http://httpbin.org/?utm_medium=Exinfluencer&utm_source=Exinfluencer&utm_content=000026UJ&utm_term=10006555&utm_id=NA-SkillsNetwork-Channel-SkillsNetworkCoursesIBMDeveloperSkillsNetworkPY0101ENSkillsNetwork19487395-2022-01-01)</code> is a simple HTTP Request & Response Service. The <code>URL</code> in Python is given by:\n"
      ]
    },
    {
      "cell_type": "code",
      "execution_count": 26,
      "metadata": {
        "id": "6WAGl1Yi3Aco"
      },
      "outputs": [],
      "source": [
        "url_get='http://httpbin.org/get'"
      ]
    },
    {
      "cell_type": "markdown",
      "metadata": {
        "id": "lU5YjUZw3Aco"
      },
      "source": [
        "A <a href=\"https://en.wikipedia.org/wiki/Query_string?utm_medium=Exinfluencer&utm_source=Exinfluencer&utm_content=000026UJ&utm_term=10006555&utm_id=NA-SkillsNetwork-Channel-SkillsNetworkCoursesIBMDeveloperSkillsNetworkPY0101ENSkillsNetwork19487395-2022-01-01\">query string</a> is a part of a uniform resource locator (URL), this sends other information to the web server. The start of the query is a <code>?</code>, followed by a series of parameter and value pairs, as shown in the table below. The first parameter name is <code>name</code> and the value is <code>Joseph</code>. The second parameter name is <code>ID</code> and the Value is <code>123</code>. Each pair, parameter, and value is separated by an equals sign, <code>=</code>.\n",
        "The series of pairs is separated by the ampersand <code>&</code>.\n"
      ]
    },
    {
      "cell_type": "markdown",
      "metadata": {
        "id": "TruVRhUG3Acp"
      },
      "source": [
        "<div class=\"alert alert-block alert-info\" style=\"margin-top: 20px\">\n",
        "         <img src=\"https://cf-courses-data.s3.us.cloud-object-storage.appdomain.cloud/IBMDeveloperSkillsNetwork-PY0101EN-SkillsNetwork/labs/Module%205/images/query_string.png\" width=\"500\" align=\"center\">\n",
        "</div>\n"
      ]
    },
    {
      "cell_type": "markdown",
      "metadata": {
        "id": "VxMf2kaG3Acp"
      },
      "source": [
        "To create a Query string, add a dictionary. The keys are the parameter names and the values are the value of the Query string.\n"
      ]
    },
    {
      "cell_type": "code",
      "execution_count": 24,
      "metadata": {
        "id": "ELBt9KBj3Acq"
      },
      "outputs": [],
      "source": [
        "payload={\"name\":\"Joseph\",\"ID\":\"123\"}"
      ]
    },
    {
      "cell_type": "markdown",
      "metadata": {
        "id": "gXgDpmeJ3Acq"
      },
      "source": [
        "Then passing the dictionary <code>payload</code> to the <code>params</code> parameter of the <code> get()</code> function:\n"
      ]
    },
    {
      "cell_type": "code",
      "execution_count": 27,
      "metadata": {
        "id": "Y9xpRfZx3Acr"
      },
      "outputs": [],
      "source": [
        "r=requests.get(url_get,params=payload)"
      ]
    },
    {
      "cell_type": "markdown",
      "metadata": {
        "id": "THoti-L33Acr"
      },
      "source": [
        "We can print out the <code>URL</code> and see the name and values\n"
      ]
    },
    {
      "cell_type": "code",
      "execution_count": 28,
      "metadata": {
        "colab": {
          "base_uri": "https://localhost:8080/",
          "height": 35
        },
        "id": "vtNKuGxo3Act",
        "outputId": "de0f525f-c49e-4e2d-b5ef-ff7b9f5a167f"
      },
      "outputs": [
        {
          "output_type": "execute_result",
          "data": {
            "text/plain": [
              "'http://httpbin.org/get?name=Joseph&ID=123'"
            ],
            "application/vnd.google.colaboratory.intrinsic+json": {
              "type": "string"
            }
          },
          "metadata": {},
          "execution_count": 28
        }
      ],
      "source": [
        "r.url"
      ]
    },
    {
      "cell_type": "markdown",
      "metadata": {
        "id": "kSU-BvqD3Acu"
      },
      "source": [
        "There is no request body\n"
      ]
    },
    {
      "cell_type": "code",
      "execution_count": 29,
      "metadata": {
        "colab": {
          "base_uri": "https://localhost:8080/"
        },
        "id": "qGD8m2Gp3Acu",
        "outputId": "1d13f271-0271-439d-bf4b-a19ec15707ad"
      },
      "outputs": [
        {
          "output_type": "stream",
          "name": "stdout",
          "text": [
            "request body: None\n"
          ]
        }
      ],
      "source": [
        "print(\"request body:\", r.request.body)"
      ]
    },
    {
      "cell_type": "markdown",
      "metadata": {
        "id": "kMYuHqiE3Acv"
      },
      "source": [
        "We can print out the status code\n"
      ]
    },
    {
      "cell_type": "code",
      "execution_count": 30,
      "metadata": {
        "colab": {
          "base_uri": "https://localhost:8080/"
        },
        "id": "IyTDfh-w3Acv",
        "outputId": "40b45b83-4d6d-400c-f382-b83000a3700e"
      },
      "outputs": [
        {
          "output_type": "stream",
          "name": "stdout",
          "text": [
            "200\n"
          ]
        }
      ],
      "source": [
        "print(r.status_code)"
      ]
    },
    {
      "cell_type": "markdown",
      "metadata": {
        "id": "7AYHDkDS3Acw"
      },
      "source": [
        "We can view the response as text:\n"
      ]
    },
    {
      "cell_type": "code",
      "execution_count": 31,
      "metadata": {
        "colab": {
          "base_uri": "https://localhost:8080/"
        },
        "id": "k9b-1xDf3Acw",
        "outputId": "74a6ce0e-0809-4b1a-c7b9-a6c9f4252ce8"
      },
      "outputs": [
        {
          "output_type": "stream",
          "name": "stdout",
          "text": [
            "{\n",
            "  \"args\": {\n",
            "    \"ID\": \"123\", \n",
            "    \"name\": \"Joseph\"\n",
            "  }, \n",
            "  \"headers\": {\n",
            "    \"Accept\": \"*/*\", \n",
            "    \"Accept-Encoding\": \"gzip, deflate\", \n",
            "    \"Host\": \"httpbin.org\", \n",
            "    \"User-Agent\": \"python-requests/2.23.0\", \n",
            "    \"X-Amzn-Trace-Id\": \"Root=1-633d2de0-49c71ffe2dd8fd0f7e80d795\"\n",
            "  }, \n",
            "  \"origin\": \"35.227.43.219\", \n",
            "  \"url\": \"http://httpbin.org/get?name=Joseph&ID=123\"\n",
            "}\n",
            "\n"
          ]
        }
      ],
      "source": [
        "print(r.text)"
      ]
    },
    {
      "cell_type": "markdown",
      "metadata": {
        "id": "ipySV6nD3Acx"
      },
      "source": [
        "We can look at the <code>'Content-Type'</code>.\n"
      ]
    },
    {
      "cell_type": "code",
      "execution_count": 32,
      "metadata": {
        "colab": {
          "base_uri": "https://localhost:8080/",
          "height": 35
        },
        "id": "Hv8E1_lo3Acx",
        "outputId": "bc37fe7b-1b8e-4ac0-e9f3-9a32c6cbbb9d"
      },
      "outputs": [
        {
          "output_type": "execute_result",
          "data": {
            "text/plain": [
              "'application/json'"
            ],
            "application/vnd.google.colaboratory.intrinsic+json": {
              "type": "string"
            }
          },
          "metadata": {},
          "execution_count": 32
        }
      ],
      "source": [
        "r.headers['Content-Type']"
      ]
    },
    {
      "cell_type": "markdown",
      "metadata": {
        "id": "Ur3pF2c-3Acx"
      },
      "source": [
        "As the content <code>'Content-Type'</code> is in the <code>JSON</code> format we can use the method <code>json()</code>, it returns a Python <code>dict</code>:\n"
      ]
    },
    {
      "cell_type": "code",
      "execution_count": 36,
      "metadata": {
        "colab": {
          "base_uri": "https://localhost:8080/",
          "height": 269
        },
        "id": "Z538ptNF3Acx",
        "outputId": "dd862ae9-ca05-4f21-e730-9ff72a971e07"
      },
      "outputs": [
        {
          "output_type": "execute_result",
          "data": {
            "text/plain": [
              "                   args                                   headers  \\\n",
              "ID                  123                                       NaN   \n",
              "name             Joseph                                       NaN   \n",
              "Accept              NaN                                       */*   \n",
              "Accept-Encoding     NaN                             gzip, deflate   \n",
              "Host                NaN                               httpbin.org   \n",
              "User-Agent          NaN                    python-requests/2.23.0   \n",
              "X-Amzn-Trace-Id     NaN  Root=1-633d2de0-49c71ffe2dd8fd0f7e80d795   \n",
              "\n",
              "                        origin                                        url  \n",
              "ID               35.227.43.219  http://httpbin.org/get?name=Joseph&ID=123  \n",
              "name             35.227.43.219  http://httpbin.org/get?name=Joseph&ID=123  \n",
              "Accept           35.227.43.219  http://httpbin.org/get?name=Joseph&ID=123  \n",
              "Accept-Encoding  35.227.43.219  http://httpbin.org/get?name=Joseph&ID=123  \n",
              "Host             35.227.43.219  http://httpbin.org/get?name=Joseph&ID=123  \n",
              "User-Agent       35.227.43.219  http://httpbin.org/get?name=Joseph&ID=123  \n",
              "X-Amzn-Trace-Id  35.227.43.219  http://httpbin.org/get?name=Joseph&ID=123  "
            ],
            "text/html": [
              "\n",
              "  <div id=\"df-b44b5649-c949-40a1-8248-d0c7c76e2e7a\">\n",
              "    <div class=\"colab-df-container\">\n",
              "      <div>\n",
              "<style scoped>\n",
              "    .dataframe tbody tr th:only-of-type {\n",
              "        vertical-align: middle;\n",
              "    }\n",
              "\n",
              "    .dataframe tbody tr th {\n",
              "        vertical-align: top;\n",
              "    }\n",
              "\n",
              "    .dataframe thead th {\n",
              "        text-align: right;\n",
              "    }\n",
              "</style>\n",
              "<table border=\"1\" class=\"dataframe\">\n",
              "  <thead>\n",
              "    <tr style=\"text-align: right;\">\n",
              "      <th></th>\n",
              "      <th>args</th>\n",
              "      <th>headers</th>\n",
              "      <th>origin</th>\n",
              "      <th>url</th>\n",
              "    </tr>\n",
              "  </thead>\n",
              "  <tbody>\n",
              "    <tr>\n",
              "      <th>ID</th>\n",
              "      <td>123</td>\n",
              "      <td>NaN</td>\n",
              "      <td>35.227.43.219</td>\n",
              "      <td>http://httpbin.org/get?name=Joseph&amp;ID=123</td>\n",
              "    </tr>\n",
              "    <tr>\n",
              "      <th>name</th>\n",
              "      <td>Joseph</td>\n",
              "      <td>NaN</td>\n",
              "      <td>35.227.43.219</td>\n",
              "      <td>http://httpbin.org/get?name=Joseph&amp;ID=123</td>\n",
              "    </tr>\n",
              "    <tr>\n",
              "      <th>Accept</th>\n",
              "      <td>NaN</td>\n",
              "      <td>*/*</td>\n",
              "      <td>35.227.43.219</td>\n",
              "      <td>http://httpbin.org/get?name=Joseph&amp;ID=123</td>\n",
              "    </tr>\n",
              "    <tr>\n",
              "      <th>Accept-Encoding</th>\n",
              "      <td>NaN</td>\n",
              "      <td>gzip, deflate</td>\n",
              "      <td>35.227.43.219</td>\n",
              "      <td>http://httpbin.org/get?name=Joseph&amp;ID=123</td>\n",
              "    </tr>\n",
              "    <tr>\n",
              "      <th>Host</th>\n",
              "      <td>NaN</td>\n",
              "      <td>httpbin.org</td>\n",
              "      <td>35.227.43.219</td>\n",
              "      <td>http://httpbin.org/get?name=Joseph&amp;ID=123</td>\n",
              "    </tr>\n",
              "    <tr>\n",
              "      <th>User-Agent</th>\n",
              "      <td>NaN</td>\n",
              "      <td>python-requests/2.23.0</td>\n",
              "      <td>35.227.43.219</td>\n",
              "      <td>http://httpbin.org/get?name=Joseph&amp;ID=123</td>\n",
              "    </tr>\n",
              "    <tr>\n",
              "      <th>X-Amzn-Trace-Id</th>\n",
              "      <td>NaN</td>\n",
              "      <td>Root=1-633d2de0-49c71ffe2dd8fd0f7e80d795</td>\n",
              "      <td>35.227.43.219</td>\n",
              "      <td>http://httpbin.org/get?name=Joseph&amp;ID=123</td>\n",
              "    </tr>\n",
              "  </tbody>\n",
              "</table>\n",
              "</div>\n",
              "      <button class=\"colab-df-convert\" onclick=\"convertToInteractive('df-b44b5649-c949-40a1-8248-d0c7c76e2e7a')\"\n",
              "              title=\"Convert this dataframe to an interactive table.\"\n",
              "              style=\"display:none;\">\n",
              "        \n",
              "  <svg xmlns=\"http://www.w3.org/2000/svg\" height=\"24px\"viewBox=\"0 0 24 24\"\n",
              "       width=\"24px\">\n",
              "    <path d=\"M0 0h24v24H0V0z\" fill=\"none\"/>\n",
              "    <path d=\"M18.56 5.44l.94 2.06.94-2.06 2.06-.94-2.06-.94-.94-2.06-.94 2.06-2.06.94zm-11 1L8.5 8.5l.94-2.06 2.06-.94-2.06-.94L8.5 2.5l-.94 2.06-2.06.94zm10 10l.94 2.06.94-2.06 2.06-.94-2.06-.94-.94-2.06-.94 2.06-2.06.94z\"/><path d=\"M17.41 7.96l-1.37-1.37c-.4-.4-.92-.59-1.43-.59-.52 0-1.04.2-1.43.59L10.3 9.45l-7.72 7.72c-.78.78-.78 2.05 0 2.83L4 21.41c.39.39.9.59 1.41.59.51 0 1.02-.2 1.41-.59l7.78-7.78 2.81-2.81c.8-.78.8-2.07 0-2.86zM5.41 20L4 18.59l7.72-7.72 1.47 1.35L5.41 20z\"/>\n",
              "  </svg>\n",
              "      </button>\n",
              "      \n",
              "  <style>\n",
              "    .colab-df-container {\n",
              "      display:flex;\n",
              "      flex-wrap:wrap;\n",
              "      gap: 12px;\n",
              "    }\n",
              "\n",
              "    .colab-df-convert {\n",
              "      background-color: #E8F0FE;\n",
              "      border: none;\n",
              "      border-radius: 50%;\n",
              "      cursor: pointer;\n",
              "      display: none;\n",
              "      fill: #1967D2;\n",
              "      height: 32px;\n",
              "      padding: 0 0 0 0;\n",
              "      width: 32px;\n",
              "    }\n",
              "\n",
              "    .colab-df-convert:hover {\n",
              "      background-color: #E2EBFA;\n",
              "      box-shadow: 0px 1px 2px rgba(60, 64, 67, 0.3), 0px 1px 3px 1px rgba(60, 64, 67, 0.15);\n",
              "      fill: #174EA6;\n",
              "    }\n",
              "\n",
              "    [theme=dark] .colab-df-convert {\n",
              "      background-color: #3B4455;\n",
              "      fill: #D2E3FC;\n",
              "    }\n",
              "\n",
              "    [theme=dark] .colab-df-convert:hover {\n",
              "      background-color: #434B5C;\n",
              "      box-shadow: 0px 1px 3px 1px rgba(0, 0, 0, 0.15);\n",
              "      filter: drop-shadow(0px 1px 2px rgba(0, 0, 0, 0.3));\n",
              "      fill: #FFFFFF;\n",
              "    }\n",
              "  </style>\n",
              "\n",
              "      <script>\n",
              "        const buttonEl =\n",
              "          document.querySelector('#df-b44b5649-c949-40a1-8248-d0c7c76e2e7a button.colab-df-convert');\n",
              "        buttonEl.style.display =\n",
              "          google.colab.kernel.accessAllowed ? 'block' : 'none';\n",
              "\n",
              "        async function convertToInteractive(key) {\n",
              "          const element = document.querySelector('#df-b44b5649-c949-40a1-8248-d0c7c76e2e7a');\n",
              "          const dataTable =\n",
              "            await google.colab.kernel.invokeFunction('convertToInteractive',\n",
              "                                                     [key], {});\n",
              "          if (!dataTable) return;\n",
              "\n",
              "          const docLinkHtml = 'Like what you see? Visit the ' +\n",
              "            '<a target=\"_blank\" href=https://colab.research.google.com/notebooks/data_table.ipynb>data table notebook</a>'\n",
              "            + ' to learn more about interactive tables.';\n",
              "          element.innerHTML = '';\n",
              "          dataTable['output_type'] = 'display_data';\n",
              "          await google.colab.output.renderOutput(dataTable, element);\n",
              "          const docLink = document.createElement('div');\n",
              "          docLink.innerHTML = docLinkHtml;\n",
              "          element.appendChild(docLink);\n",
              "        }\n",
              "      </script>\n",
              "    </div>\n",
              "  </div>\n",
              "  "
            ]
          },
          "metadata": {},
          "execution_count": 36
        }
      ],
      "source": [
        "r.json()\n",
        "ct = pd.DataFrame(r.json())\n",
        "ct"
      ]
    },
    {
      "cell_type": "markdown",
      "metadata": {
        "id": "3ej7kHqY3Acy"
      },
      "source": [
        "The key <code>args</code> has the name and values:\n"
      ]
    },
    {
      "cell_type": "code",
      "execution_count": 35,
      "metadata": {
        "colab": {
          "base_uri": "https://localhost:8080/"
        },
        "id": "eMns7OF03Acy",
        "outputId": "79c13043-f02d-4fea-d6d8-01080e76f0ef"
      },
      "outputs": [
        {
          "output_type": "execute_result",
          "data": {
            "text/plain": [
              "{'ID': '123', 'name': 'Joseph'}"
            ]
          },
          "metadata": {},
          "execution_count": 35
        }
      ],
      "source": [
        "r.json()['args']"
      ]
    },
    {
      "cell_type": "markdown",
      "metadata": {
        "id": "Eil3z1eB3Acz"
      },
      "source": [
        "<h2 id=\"POST\">Post Requests  </h2>\n"
      ]
    },
    {
      "cell_type": "markdown",
      "metadata": {
        "id": "LT_un1Fq3Ac0"
      },
      "source": [
        "Like a <code>GET</code> request, a <code>POST</code> is used to send data to a server, but the <code>POST</code> request sends the data in a request body. In order to send the Post Request in Python, in the <code>URL</code> we change the route to <code>POST</code>:\n"
      ]
    },
    {
      "cell_type": "code",
      "execution_count": 37,
      "metadata": {
        "id": "ZaBEfjl-3Ac0"
      },
      "outputs": [],
      "source": [
        "url_post='http://httpbin.org/post'"
      ]
    },
    {
      "cell_type": "markdown",
      "metadata": {
        "id": "5-gDI1_83Ac1"
      },
      "source": [
        "This endpoint will expect data as a file or as a form. A form is convenient way to configure an HTTP request to send data to a server.\n"
      ]
    },
    {
      "cell_type": "markdown",
      "metadata": {
        "id": "YcpQUznM3Ac3"
      },
      "source": [
        "To make a <code>POST</code> request we use the <code>post()</code> function, the variable <code>payload</code> is passed to the parameter <code> data </code>:\n"
      ]
    },
    {
      "cell_type": "code",
      "execution_count": 38,
      "metadata": {
        "id": "SqfEXjps3Ac6"
      },
      "outputs": [],
      "source": [
        "r_post=requests.post(url_post,data=payload)"
      ]
    },
    {
      "cell_type": "markdown",
      "metadata": {
        "id": "lqri3fhZ3Ac7"
      },
      "source": [
        "Comparing the URL from the response object of the <code>GET</code> and <code>POST</code> request we see the <code>POST</code> request has no name or value pairs.\n"
      ]
    },
    {
      "cell_type": "code",
      "execution_count": 39,
      "metadata": {
        "colab": {
          "base_uri": "https://localhost:8080/"
        },
        "id": "0ntrlAXs3Ac7",
        "outputId": "8091f59d-c102-4eab-cefb-cd7a07366c02"
      },
      "outputs": [
        {
          "output_type": "stream",
          "name": "stdout",
          "text": [
            "POST request URL: http://httpbin.org/post\n",
            "GET request URL: http://httpbin.org/get?name=Joseph&ID=123\n"
          ]
        }
      ],
      "source": [
        "print(\"POST request URL:\",r_post.url )\n",
        "print(\"GET request URL:\",r.url)"
      ]
    },
    {
      "cell_type": "markdown",
      "metadata": {
        "id": "xV7S7szf3Ac7"
      },
      "source": [
        "We can compare the <code>POST</code> and <code>GET</code> request body, we see only the <code>POST</code> request has a body:\n"
      ]
    },
    {
      "cell_type": "code",
      "execution_count": 40,
      "metadata": {
        "colab": {
          "base_uri": "https://localhost:8080/"
        },
        "id": "jcvG2cH33Ac9",
        "outputId": "f0561b0d-7714-4e85-ee40-1c61d0e3ea51"
      },
      "outputs": [
        {
          "output_type": "stream",
          "name": "stdout",
          "text": [
            "POST request body: name=Joseph&ID=123\n",
            "GET request body: None\n"
          ]
        }
      ],
      "source": [
        "print(\"POST request body:\",r_post.request.body)\n",
        "print(\"GET request body:\",r.request.body)"
      ]
    },
    {
      "cell_type": "markdown",
      "metadata": {
        "id": "uX8elcln3Ac-"
      },
      "source": [
        "We can view the form as well:\n"
      ]
    },
    {
      "cell_type": "code",
      "execution_count": 41,
      "metadata": {
        "colab": {
          "base_uri": "https://localhost:8080/"
        },
        "id": "OJICGKo-3AdA",
        "outputId": "eb9cfce2-a097-48d0-82a1-6b6bf1cb14ed"
      },
      "outputs": [
        {
          "output_type": "execute_result",
          "data": {
            "text/plain": [
              "{'ID': '123', 'name': 'Joseph'}"
            ]
          },
          "metadata": {},
          "execution_count": 41
        }
      ],
      "source": [
        "r_post.json()['form']"
      ]
    },
    {
      "cell_type": "markdown",
      "metadata": {
        "id": "kN6ilH7E3AdC"
      },
      "source": [
        "There is a lot more you can do. Check out <a href=\"https://requests.readthedocs.io/en/master/?utm_medium=Exinfluencer&utm_source=Exinfluencer&utm_content=000026UJ&utm_term=10006555&utm_id=NA-SkillsNetwork-Channel-SkillsNetworkCoursesIBMDeveloperSkillsNetworkPY0101ENSkillsNetwork19487395-2022-01-01\">Requests </a> for more.\n"
      ]
    },
    {
      "cell_type": "markdown",
      "metadata": {
        "id": "mG5YoPev3AdD"
      },
      "source": [
        "<hr>\n"
      ]
    },
    {
      "cell_type": "markdown",
      "metadata": {
        "id": "bQ3D1lbS3AdE"
      },
      "source": [
        "## Authors\n",
        "\n",
        "<p><a href=\"https://www.linkedin.com/in/joseph-s-50398b136/?utm_medium=Exinfluencer&utm_source=Exinfluencer&utm_content=000026UJ&utm_term=10006555&utm_id=NA-SkillsNetwork-Channel-SkillsNetworkCoursesIBMDeveloperSkillsNetworkPY0101ENSkillsNetwork19487395-2022-01-01\" target=\"_blank\">Joseph Santarcangelo</a> <br>A Data Scientist at IBM, and holds a PhD in Electrical Engineering. His research focused on using Machine Learning, Signal Processing, and Computer Vision to determine how videos impact human cognition. Joseph has been working for IBM since he completed his PhD.</p>\n"
      ]
    },
    {
      "cell_type": "markdown",
      "metadata": {
        "id": "h4oH8t6f3AdH"
      },
      "source": [
        "### Other Contributors\n",
        "\n",
        "<a href=\"https://www.linkedin.com/in/jiahui-mavis-zhou-a4537814a?utm_medium=Exinfluencer&utm_source=Exinfluencer&utm_content=000026UJ&utm_term=10006555&utm_id=NA-SkillsNetwork-Channel-SkillsNetworkCoursesIBMDeveloperSkillsNetworkPY0101ENSkillsNetwork19487395-2022-01-01\">Mavis Zhou</a>\n"
      ]
    },
    {
      "cell_type": "markdown",
      "metadata": {
        "id": "Xg1Q-5Cc3AdH"
      },
      "source": [
        "## Change Log\n",
        "\n",
        "| Date (YYYY-MM-DD) | Version | Changed By | Change Description           |\n",
        "| ----------------- | ------- | ---------- | ---------------------------- |\n",
        "| 2021-12-20        | 2.1     | Malika     | Updated the links            |\n",
        "| 2020-09-02        | 2.0     | Simran     | Template updates to the file |\n",
        "|                   |         |            |                              |\n",
        "|                   |         |            |                              |\n",
        "\n",
        "## <h3 align=\"center\"> © IBM Corporation 2020. All rights reserved. <h3/>\n"
      ]
    }
  ],
  "metadata": {
    "kernelspec": {
      "display_name": "Python 3",
      "language": "python",
      "name": "python3"
    },
    "language_info": {
      "codemirror_mode": {
        "name": "ipython",
        "version": 3
      },
      "file_extension": ".py",
      "mimetype": "text/x-python",
      "name": "python",
      "nbconvert_exporter": "python",
      "pygments_lexer": "ipython3",
      "version": "3.8.8"
    },
    "colab": {
      "provenance": [],
      "include_colab_link": true
    }
  },
  "nbformat": 4,
  "nbformat_minor": 0
}